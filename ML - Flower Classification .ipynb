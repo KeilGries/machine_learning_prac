{
 "cells": [
  {
   "cell_type": "code",
   "execution_count": 86,
   "id": "ba14a4ac-4cc6-4de6-938d-9acb86735e53",
   "metadata": {
    "tags": []
   },
   "outputs": [],
   "source": [
    "from __future__ import absolute_import, division, print_function, unicode_literals\n",
    "\n",
    "import tensorflow as tf\n",
    "import pandas as pd\n",
    "import numpy as np\n",
    "import matplotlib.pyplot as plt\n",
    "\n",
    "from imblearn.over_sampling import RandomOverSampler\n",
    "\n",
    "from sklearn.preprocessing import StandardScaler"
   ]
  },
  {
   "cell_type": "code",
   "execution_count": 7,
   "id": "ae5486eb-2450-4481-ab49-1704c0380201",
   "metadata": {
    "tags": []
   },
   "outputs": [],
   "source": [
    "CSV_COLUMN_NAMES = ['SepalLength', 'SepalWidth', 'PetalLength', 'PetalWidth', 'Species']\n",
    "SPECIES = ['Setosa', 'Versicolor', 'Virginica']\n",
    "# Let's define some constant to help us later on"
   ]
  },
  {
   "cell_type": "code",
   "execution_count": 21,
   "id": "426717df-b806-4b6b-93d8-dc5a447377e2",
   "metadata": {
    "tags": []
   },
   "outputs": [],
   "source": [
    "train_path = tf.keras.utils.get_file(origin='https://storage.googleapis.com/download.tensorflow.org/data/iris_training.csv')\n",
    "test_path = tf.keras.utils.get_file(origin='https://storage.googleapis.com/download.tensorflow.org/data/iris_test.csv')\n",
    "\n",
    "train = pd.read_csv(train_path, names=CSV_COLUMN_NAMES, header=0)\n",
    "test = pd.read_csv(test_path, names=CSV_COLUMN_NAMES, header=0)\n",
    "\n",
    "# Here we use keras (a module inside of TensorFlow) to grab our datasets and read them into a pandas dataframe"
   ]
  },
  {
   "cell_type": "code",
   "execution_count": 55,
   "id": "445bb939-2284-4030-8c39-ab4de17fbfc0",
   "metadata": {
    "jupyter": {
     "source_hidden": true
    },
    "tags": []
   },
   "outputs": [
    {
     "data": {
      "text/plain": [
       "(120, 5)"
      ]
     },
     "execution_count": 55,
     "metadata": {},
     "output_type": "execute_result"
    }
   ],
   "source": [
    "train.shape"
   ]
  },
  {
   "cell_type": "code",
   "execution_count": 56,
   "id": "a6cdb6fe-66f7-4574-b212-24872b61cd1e",
   "metadata": {
    "tags": []
   },
   "outputs": [
    {
     "data": {
      "text/html": [
       "<div>\n",
       "<style scoped>\n",
       "    .dataframe tbody tr th:only-of-type {\n",
       "        vertical-align: middle;\n",
       "    }\n",
       "\n",
       "    .dataframe tbody tr th {\n",
       "        vertical-align: top;\n",
       "    }\n",
       "\n",
       "    .dataframe thead th {\n",
       "        text-align: right;\n",
       "    }\n",
       "</style>\n",
       "<table border=\"1\" class=\"dataframe\">\n",
       "  <thead>\n",
       "    <tr style=\"text-align: right;\">\n",
       "      <th></th>\n",
       "      <th>SepalLength</th>\n",
       "      <th>SepalWidth</th>\n",
       "      <th>PetalLength</th>\n",
       "      <th>PetalWidth</th>\n",
       "      <th>Species</th>\n",
       "    </tr>\n",
       "  </thead>\n",
       "  <tbody>\n",
       "    <tr>\n",
       "      <th>0</th>\n",
       "      <td>6.4</td>\n",
       "      <td>2.8</td>\n",
       "      <td>5.6</td>\n",
       "      <td>2.2</td>\n",
       "      <td>2</td>\n",
       "    </tr>\n",
       "    <tr>\n",
       "      <th>1</th>\n",
       "      <td>5.0</td>\n",
       "      <td>2.3</td>\n",
       "      <td>3.3</td>\n",
       "      <td>1.0</td>\n",
       "      <td>1</td>\n",
       "    </tr>\n",
       "    <tr>\n",
       "      <th>2</th>\n",
       "      <td>4.9</td>\n",
       "      <td>2.5</td>\n",
       "      <td>4.5</td>\n",
       "      <td>1.7</td>\n",
       "      <td>2</td>\n",
       "    </tr>\n",
       "    <tr>\n",
       "      <th>3</th>\n",
       "      <td>4.9</td>\n",
       "      <td>3.1</td>\n",
       "      <td>1.5</td>\n",
       "      <td>0.1</td>\n",
       "      <td>0</td>\n",
       "    </tr>\n",
       "    <tr>\n",
       "      <th>4</th>\n",
       "      <td>5.7</td>\n",
       "      <td>3.8</td>\n",
       "      <td>1.7</td>\n",
       "      <td>0.3</td>\n",
       "      <td>0</td>\n",
       "    </tr>\n",
       "    <tr>\n",
       "      <th>...</th>\n",
       "      <td>...</td>\n",
       "      <td>...</td>\n",
       "      <td>...</td>\n",
       "      <td>...</td>\n",
       "      <td>...</td>\n",
       "    </tr>\n",
       "    <tr>\n",
       "      <th>115</th>\n",
       "      <td>5.5</td>\n",
       "      <td>2.6</td>\n",
       "      <td>4.4</td>\n",
       "      <td>1.2</td>\n",
       "      <td>1</td>\n",
       "    </tr>\n",
       "    <tr>\n",
       "      <th>116</th>\n",
       "      <td>5.7</td>\n",
       "      <td>3.0</td>\n",
       "      <td>4.2</td>\n",
       "      <td>1.2</td>\n",
       "      <td>1</td>\n",
       "    </tr>\n",
       "    <tr>\n",
       "      <th>117</th>\n",
       "      <td>4.4</td>\n",
       "      <td>2.9</td>\n",
       "      <td>1.4</td>\n",
       "      <td>0.2</td>\n",
       "      <td>0</td>\n",
       "    </tr>\n",
       "    <tr>\n",
       "      <th>118</th>\n",
       "      <td>4.8</td>\n",
       "      <td>3.0</td>\n",
       "      <td>1.4</td>\n",
       "      <td>0.1</td>\n",
       "      <td>0</td>\n",
       "    </tr>\n",
       "    <tr>\n",
       "      <th>119</th>\n",
       "      <td>5.5</td>\n",
       "      <td>2.4</td>\n",
       "      <td>3.7</td>\n",
       "      <td>1.0</td>\n",
       "      <td>1</td>\n",
       "    </tr>\n",
       "  </tbody>\n",
       "</table>\n",
       "<p>120 rows × 5 columns</p>\n",
       "</div>"
      ],
      "text/plain": [
       "     SepalLength  SepalWidth  PetalLength  PetalWidth  Species\n",
       "0            6.4         2.8          5.6         2.2        2\n",
       "1            5.0         2.3          3.3         1.0        1\n",
       "2            4.9         2.5          4.5         1.7        2\n",
       "3            4.9         3.1          1.5         0.1        0\n",
       "4            5.7         3.8          1.7         0.3        0\n",
       "..           ...         ...          ...         ...      ...\n",
       "115          5.5         2.6          4.4         1.2        1\n",
       "116          5.7         3.0          4.2         1.2        1\n",
       "117          4.4         2.9          1.4         0.2        0\n",
       "118          4.8         3.0          1.4         0.1        0\n",
       "119          5.5         2.4          3.7         1.0        1\n",
       "\n",
       "[120 rows x 5 columns]"
      ]
     },
     "execution_count": 56,
     "metadata": {},
     "output_type": "execute_result"
    }
   ],
   "source": [
    "train"
   ]
  },
  {
   "cell_type": "code",
   "execution_count": 54,
   "id": "3b7bd0ac-1486-4d22-bdc9-27a34ae805bf",
   "metadata": {
    "tags": []
   },
   "outputs": [
    {
     "data": {
      "text/plain": [
       "(30, 5)"
      ]
     },
     "execution_count": 54,
     "metadata": {},
     "output_type": "execute_result"
    }
   ],
   "source": [
    "test.shape"
   ]
  },
  {
   "cell_type": "code",
   "execution_count": 27,
   "id": "6e82ec39-2ad3-4878-a44d-408cedb0218e",
   "metadata": {
    "tags": []
   },
   "outputs": [],
   "source": [
    "train_x = train[train.columns[:-1]].values\n",
    "train_y = train[train.columns[-1]].values\n",
    "test_x = test[test.columns[:-1]].values\n",
    "test_y = test[test.columns[-1]].values"
   ]
  },
  {
   "cell_type": "code",
   "execution_count": 30,
   "id": "2d9e2727-a40b-4b23-8e73-2e6870f55076",
   "metadata": {
    "tags": []
   },
   "outputs": [
    {
     "data": {
      "text/plain": [
       "((120, 5), (120,), (120, 4))"
      ]
     },
     "execution_count": 30,
     "metadata": {},
     "output_type": "execute_result"
    }
   ],
   "source": [
    "train.shape, train_y.shape, train_x.shape"
   ]
  },
  {
   "cell_type": "code",
   "execution_count": 52,
   "id": "fcb72d2e-10f5-44a4-b08e-6593652915b2",
   "metadata": {
    "tags": []
   },
   "outputs": [
    {
     "data": {
      "text/plain": [
       "42"
      ]
     },
     "execution_count": 52,
     "metadata": {},
     "output_type": "execute_result"
    }
   ],
   "source": [
    "len(train[train['Species']==0])"
   ]
  },
  {
   "cell_type": "markdown",
   "id": "e4a119bc-e58f-4b40-9488-b16bab852503",
   "metadata": {},
   "source": [
    "# Plot Features Against Corresponding Labels\n",
    "### Look for obvious signs of correlation between feature values and label outcome"
   ]
  },
  {
   "cell_type": "code",
   "execution_count": 66,
   "id": "d180b041-752d-440f-9e84-7941a032d032",
   "metadata": {
    "tags": []
   },
   "outputs": [
    {
     "data": {
      "image/png": "[encoded data removed]",
      "text/plain": [
       "<Figure size 640x480 with 1 Axes>"
      ]
     },
     "metadata": {},
     "output_type": "display_data"
    },
    {
     "data": {
      "image/png": "[encoded data removed]",
      "text/plain": [
       "<Figure size 640x480 with 1 Axes>"
      ]
     },
     "metadata": {},
     "output_type": "display_data"
    },
    {
     "data": {
      "image/png": "[encoded data removed]",
      "text/plain": [
       "<Figure size 640x480 with 1 Axes>"
      ]
     },
     "metadata": {},
     "output_type": "display_data"
    },
    {
     "data": {
      "image/png": "[encoded data removed]",
      "text/plain": [
       "<Figure size 640x480 with 1 Axes>"
      ]
     },
     "metadata": {},
     "output_type": "display_data"
    }
   ],
   "source": [
    "for i in range (len(train.columns[:-1])):\n",
    "    feature = train.columns[i]\n",
    "    plt.hist(train[train['Species'] == 0][feature], color='blue', label='Setosa', alpha=0.4, bins=20)\n",
    "    plt.hist(train[train['Species'] == 1][feature], color='red', label='Versicolor', alpha=0.4, bins=20)\n",
    "    plt.hist(train[train['Species'] == 2][feature], color='green', label='Virginica', alpha=0.4, bins=20)\n",
    "    plt.xlabel(feature)\n",
    "    plt.ylabel('N')\n",
    "    plt.legend()\n",
    "    plt.show()"
   ]
  },
  {
   "cell_type": "markdown",
   "id": "d33f82e5-5436-4a34-9071-51d5f69d3213",
   "metadata": {},
   "source": [
    "# Determine Shape/Sampling Skew of Specific Label Outcomes"
   ]
  },
  {
   "cell_type": "code",
   "execution_count": 72,
   "id": "67e82c27-7ea6-451d-9218-a195a0ca3e12",
   "metadata": {
    "tags": []
   },
   "outputs": [
    {
     "data": {
      "text/plain": [
       "(8, 14, 8)"
      ]
     },
     "execution_count": 72,
     "metadata": {},
     "output_type": "execute_result"
    }
   ],
   "source": [
    "len(test[test['Species']==0]), len(test[test['Species']==1]), len(test[test['Species']==2])"
   ]
  },
  {
   "cell_type": "code",
   "execution_count": 73,
   "id": "e526ad14-0539-43ef-aeef-e231691dc739",
   "metadata": {
    "tags": []
   },
   "outputs": [
    {
     "data": {
      "text/plain": [
       "(42, 36, 42)"
      ]
     },
     "execution_count": 73,
     "metadata": {},
     "output_type": "execute_result"
    }
   ],
   "source": [
    "len(train[train['Species']==0]), len(train[train['Species']==1]), len(train[train['Species']==2])"
   ]
  },
  {
   "cell_type": "code",
   "execution_count": 77,
   "id": "b2c0dd03-b786-4cfd-8acc-555c58143057",
   "metadata": {
    "tags": []
   },
   "outputs": [
    {
     "data": {
      "text/plain": [
       "((120, 4), (120,))"
      ]
     },
     "execution_count": 77,
     "metadata": {},
     "output_type": "execute_result"
    }
   ],
   "source": [
    "train_x.shape, train_y.shape"
   ]
  },
  {
   "cell_type": "markdown",
   "id": "6f2d7842-ab50-4e44-93ad-1ec83f74aa39",
   "metadata": {},
   "source": [
    "# Use RandomOverSampler to Normalize Label Outcomes"
   ]
  },
  {
   "cell_type": "markdown",
   "id": "3634a547-adf2-468f-80a6-5ae786b855aa",
   "metadata": {},
   "source": [
    "### This helps to prevent our model from becoming skewed by seeing more of a particular outcome"
   ]
  },
  {
   "cell_type": "code",
   "execution_count": 92,
   "id": "87149765-d9c7-4a2d-b72b-3122a5301b48",
   "metadata": {
    "tags": []
   },
   "outputs": [],
   "source": [
    "over = RandomOverSampler()\n",
    "\n",
    "train_x, train_y = over.fit_resample(train_x, train_y)\n",
    "test_x, test_y = over.fit_resample(test_x, test_y)"
   ]
  },
  {
   "cell_type": "code",
   "execution_count": 94,
   "id": "4bc85496-c7ab-4ae5-b4a0-0f20a638c47d",
   "metadata": {
    "tags": []
   },
   "outputs": [
    {
     "data": {
      "text/plain": [
       "(((126, 4), (126,)), ((42, 4), (42,)))"
      ]
     },
     "execution_count": 94,
     "metadata": {},
     "output_type": "execute_result"
    }
   ],
   "source": [
    "(train_x.shape, train_y.shape), (test_x.shape, test_y.shape)"
   ]
  },
  {
   "cell_type": "markdown",
   "id": "c0f4673f-b758-4452-9367-ce23cb0ab8dc",
   "metadata": {},
   "source": [
    "# Use StandardScaler to Normalize Range of Feature Values, then Recombine the Normalized DataFrame"
   ]
  },
  {
   "cell_type": "code",
   "execution_count": 95,
   "id": "a0831c8a-4a3d-45b4-a637-6865eebbbbf3",
   "metadata": {
    "tags": []
   },
   "outputs": [],
   "source": [
    "scalar = StandardScaler()\n",
    "\n",
    "train_x = scalar.fit_transform(train_x)\n",
    "test_x = scalar.fit_transform(test_x)\n",
    "\n",
    "train_data = np.hstack((train_x, np.reshape(train_y, (-1,1))))\n",
    "test_data = np.hstack((test_x, np.reshape(test_y, (-1,1))))\n",
    "\n",
    "transformed_train_df = pd.DataFrame(data, columns=train.columns)\n",
    "transformed_test_df = pd.DataFrame(data, columns=train.columns)"
   ]
  },
  {
   "cell_type": "code",
   "execution_count": 100,
   "id": "e25c91c0-1f93-432b-b52e-41cfdcb33ff2",
   "metadata": {
    "tags": []
   },
   "outputs": [
    {
     "data": {
      "text/plain": [
       "(42, 42, 42)"
      ]
     },
     "execution_count": 100,
     "metadata": {},
     "output_type": "execute_result"
    }
   ],
   "source": [
    "len(transformed_train_df[transformed_train_df['Species']==0]), len(transformed_train_df[transformed_train_df['Species']==1]), len(transformed_train_df[transformed_train_df['Species']==2])"
   ]
  },
  {
   "cell_type": "code",
   "execution_count": 102,
   "id": "f493456d-374e-41ae-aae1-047d6e0ced86",
   "metadata": {
    "tags": []
   },
   "outputs": [
    {
     "data": {
      "text/plain": [
       "(42, 42, 42)"
      ]
     },
     "execution_count": 102,
     "metadata": {},
     "output_type": "execute_result"
    }
   ],
   "source": [
    "len(transformed_test_df[transformed_test_df['Species']==0]), len(transformed_test_df[transformed_test_df['Species']==1]), len(transformed_test_df[transformed_test_df['Species']==2])"
   ]
  },
  {
   "cell_type": "markdown",
   "id": "f7a01937-e4ff-48f2-b590-8e22ec0464ff",
   "metadata": {},
   "source": [
    "# Build a Neural Net Model"
   ]
  },
  {
   "cell_type": "code",
   "execution_count": 132,
   "id": "941cb8e8-b5e8-4fbf-9114-a5783b6a5f72",
   "metadata": {
    "tags": []
   },
   "outputs": [],
   "source": [
    "model = tf.keras.Sequential([\n",
    "                           tf.keras.layers.Dense(16, activation='relu'), \n",
    "                           tf.keras.layers.Dense(16, activation='relu'), \n",
    "                           tf.keras.layers.Dense(3, activation='softmax')    # An output layer of 3 nodes allows for outcome labels of 0, 1, or 2. \n",
    "                           ])"
   ]
  },
  {
   "cell_type": "code",
   "execution_count": 135,
   "id": "3273dc4d-8b99-4f18-b04c-3446ef1b5c7f",
   "metadata": {
    "tags": []
   },
   "outputs": [],
   "source": [
    "model.compile(optimizer=tf.keras.optimizers.Adam(learning_rate=0.001),\n",
    "             loss=tf.keras.losses.SparseCategoricalCrossentropy(),     # If predicting binary label outcomes (your only labels are 0, 1 or 1, 2) then use keras.losses.BinaryCrossentropy()\n",
    "             metrics='accuracy')"
   ]
  },
  {
   "cell_type": "markdown",
   "id": "a68f10e8-d75f-4b39-8f65-b619e86b07b0",
   "metadata": {},
   "source": [
    "# Train the Model"
   ]
  },
  {
   "cell_type": "code",
   "execution_count": 134,
   "id": "e47c8a81-daf6-49a4-ac35-61715d4d8d39",
   "metadata": {
    "tags": []
   },
   "outputs": [
    {
     "name": "stdout",
     "output_type": "stream",
     "text": [
      "Epoch 1/25\n",
      "26/26 [==============================] - 1s 6ms/step - loss: 1.1504 - accuracy: 0.2063 - val_loss: 1.0224 - val_accuracy: 0.5476\n",
      "Epoch 2/25\n",
      "26/26 [==============================] - 0s 2ms/step - loss: 1.0227 - accuracy: 0.5556 - val_loss: 0.8939 - val_accuracy: 0.7143\n",
      "Epoch 3/25\n",
      "26/26 [==============================] - 0s 2ms/step - loss: 0.8903 - accuracy: 0.7381 - val_loss: 0.7789 - val_accuracy: 0.8095\n",
      "Epoch 4/25\n",
      "26/26 [==============================] - 0s 2ms/step - loss: 0.7636 - accuracy: 0.8571 - val_loss: 0.6601 - val_accuracy: 0.8810\n",
      "Epoch 5/25\n",
      "26/26 [==============================] - 0s 2ms/step - loss: 0.6407 - accuracy: 0.8413 - val_loss: 0.5602 - val_accuracy: 0.8333\n",
      "Epoch 6/25\n",
      "26/26 [==============================] - 0s 2ms/step - loss: 0.5396 - accuracy: 0.8413 - val_loss: 0.4877 - val_accuracy: 0.8333\n",
      "Epoch 7/25\n",
      "26/26 [==============================] - 0s 2ms/step - loss: 0.4692 - accuracy: 0.8333 - val_loss: 0.4364 - val_accuracy: 0.8333\n",
      "Epoch 8/25\n",
      "26/26 [==============================] - 0s 2ms/step - loss: 0.4191 - accuracy: 0.8413 - val_loss: 0.4002 - val_accuracy: 0.8333\n",
      "Epoch 9/25\n",
      "26/26 [==============================] - 0s 2ms/step - loss: 0.3798 - accuracy: 0.8571 - val_loss: 0.3720 - val_accuracy: 0.8333\n",
      "Epoch 10/25\n",
      "26/26 [==============================] - 0s 2ms/step - loss: 0.3499 - accuracy: 0.8571 - val_loss: 0.3476 - val_accuracy: 0.8571\n",
      "Epoch 11/25\n",
      "26/26 [==============================] - 0s 2ms/step - loss: 0.3225 - accuracy: 0.8571 - val_loss: 0.3266 - val_accuracy: 0.8571\n",
      "Epoch 12/25\n",
      "26/26 [==============================] - 0s 2ms/step - loss: 0.3014 - accuracy: 0.8571 - val_loss: 0.3063 - val_accuracy: 0.9048\n",
      "Epoch 13/25\n",
      "26/26 [==============================] - 0s 2ms/step - loss: 0.2817 - accuracy: 0.8810 - val_loss: 0.2887 - val_accuracy: 0.9048\n",
      "Epoch 14/25\n",
      "26/26 [==============================] - 0s 2ms/step - loss: 0.2654 - accuracy: 0.8889 - val_loss: 0.2733 - val_accuracy: 0.9048\n",
      "Epoch 15/25\n",
      "26/26 [==============================] - 0s 2ms/step - loss: 0.2509 - accuracy: 0.8889 - val_loss: 0.2588 - val_accuracy: 0.9048\n",
      "Epoch 16/25\n",
      "26/26 [==============================] - 0s 2ms/step - loss: 0.2373 - accuracy: 0.9048 - val_loss: 0.2466 - val_accuracy: 0.9048\n",
      "Epoch 17/25\n",
      "26/26 [==============================] - 0s 2ms/step - loss: 0.2290 - accuracy: 0.9365 - val_loss: 0.2342 - val_accuracy: 0.9286\n",
      "Epoch 18/25\n",
      "26/26 [==============================] - 0s 2ms/step - loss: 0.2153 - accuracy: 0.9286 - val_loss: 0.2271 - val_accuracy: 0.9048\n",
      "Epoch 19/25\n",
      "26/26 [==============================] - 0s 2ms/step - loss: 0.2088 - accuracy: 0.9127 - val_loss: 0.2149 - val_accuracy: 0.9286\n",
      "Epoch 20/25\n",
      "26/26 [==============================] - 0s 2ms/step - loss: 0.1991 - accuracy: 0.9286 - val_loss: 0.2048 - val_accuracy: 0.9524\n",
      "Epoch 21/25\n",
      "26/26 [==============================] - 0s 2ms/step - loss: 0.1904 - accuracy: 0.9365 - val_loss: 0.1960 - val_accuracy: 0.9524\n",
      "Epoch 22/25\n",
      "26/26 [==============================] - 0s 2ms/step - loss: 0.1855 - accuracy: 0.9286 - val_loss: 0.1880 - val_accuracy: 0.9524\n",
      "Epoch 23/25\n",
      "26/26 [==============================] - 0s 2ms/step - loss: 0.1741 - accuracy: 0.9365 - val_loss: 0.1773 - val_accuracy: 0.9762\n",
      "Epoch 24/25\n",
      "26/26 [==============================] - 0s 2ms/step - loss: 0.1689 - accuracy: 0.9444 - val_loss: 0.1691 - val_accuracy: 0.9762\n",
      "Epoch 25/25\n",
      "26/26 [==============================] - 0s 2ms/step - loss: 0.1631 - accuracy: 0.9444 - val_loss: 0.1615 - val_accuracy: 0.9762\n"
     ]
    },
    {
     "data": {
      "text/plain": [
       "<keras.callbacks.History at 0x218df301490>"
      ]
     },
     "execution_count": 134,
     "metadata": {},
     "output_type": "execute_result"
    }
   ],
   "source": [
    "model.fit(train_x, train_y, batch_size=5, epochs=25, validation_data=(test_x, test_y))"
   ]
  },
  {
   "cell_type": "code",
   "execution_count": null,
   "id": "a5a2e9d8-e24a-463b-bfb0-de92e903a519",
   "metadata": {},
   "outputs": [],
   "source": []
  }
 ],
 "metadata": {
  "kernelspec": {
   "display_name": "Python 3 (ipykernel)",
   "language": "python",
   "name": "python3"
  },
  "language_info": {
   "codemirror_mode": {
    "name": "ipython",
    "version": 3
   },
   "file_extension": ".py",
   "mimetype": "text/x-python",
   "name": "python",
   "nbconvert_exporter": "python",
   "pygments_lexer": "ipython3",
   "version": "3.11.1"
  }
 },
 "nbformat": 4,
 "nbformat_minor": 5
}
